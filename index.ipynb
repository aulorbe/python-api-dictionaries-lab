{
 "cells": [
  {
   "cell_type": "markdown",
   "metadata": {},
   "source": [
    "# API Exercises"
   ]
  },
  {
   "cell_type": "markdown",
   "metadata": {},
   "source": [
    "Here are two exercises that involve working with APIs and dictionaries.\n",
    "\n",
    "One is using the Open Brewery API found at https://www.openbrewerydb.org/, and the other is using the API for UK Police Data, found at https://data.police.uk/docs/.\n",
    "\n",
    "You can complete them in either order!\n",
    "\n",
    "Remember that you can create new cells with esc + a or b"
   ]
  },
  {
   "cell_type": "markdown",
   "metadata": {},
   "source": [
    "## Breweries"
   ]
  },
  {
   "cell_type": "markdown",
   "metadata": {},
   "source": [
    "### Q1: Load the first page of results with 50 results per page"
   ]
  },
  {
   "cell_type": "code",
   "execution_count": 9,
   "metadata": {},
   "outputs": [],
   "source": [
    "# url = 'https://api.openbrewerydb.org/breweries?page=1&per_page=50'\n",
    "\n",
    "import requests,json\n",
    "first_50 = requests.get(\"https://api.openbrewerydb.org/breweries?page=1&per_page=50\").json()"
   ]
  },
  {
   "cell_type": "markdown",
   "metadata": {},
   "source": [
    "### Q2: This is only the first 50 results.  Get the next 50 and put them together."
   ]
  },
  {
   "cell_type": "code",
   "execution_count": 10,
   "metadata": {},
   "outputs": [],
   "source": [
    "second_50 = requests.get(\"https://api.openbrewerydb.org/breweries?page=2&per_page=50\").json()\n",
    "\n",
    "brewery_list = first_50 + second_50\n",
    "\n",
    "# brewery_list"
   ]
  },
  {
   "cell_type": "markdown",
   "metadata": {},
   "source": [
    "### Q3: How many of these 100 breweries in are in Alaska?"
   ]
  },
  {
   "cell_type": "code",
   "execution_count": 11,
   "metadata": {},
   "outputs": [
    {
     "data": {
      "text/plain": [
       "3"
      ]
     },
     "execution_count": 11,
     "metadata": {},
     "output_type": "execute_result"
    }
   ],
   "source": [
    "len(list(filter(lambda brewery: brewery['state'] == 'Alaska', brewery_list)))"
   ]
  },
  {
   "cell_type": "markdown",
   "metadata": {},
   "source": [
    "### Q4: Of these 100 breweries, what are the different unique brewery types?"
   ]
  },
  {
   "cell_type": "code",
   "execution_count": 12,
   "metadata": {},
   "outputs": [
    {
     "data": {
      "text/plain": [
       "{'brewpub', 'contract', 'micro', 'planning', 'proprietor', 'regional'}"
      ]
     },
     "execution_count": 12,
     "metadata": {},
     "output_type": "execute_result"
    }
   ],
   "source": [
    "set(list(map(lambda brew: brew['brewery_type'] , brewery_list)))"
   ]
  },
  {
   "cell_type": "markdown",
   "metadata": {},
   "source": [
    "### Q5: What is the cloest brewery to \"Devil's Potion Brewing Company LLC\" ?\n",
    "* Hint 1: Use Euclidian distance w/ longitude and latitude (assume longitude and latitude are a Carteisan coordinate system)\n",
    "* Hint 2: You'll have to ignore the entries with \"none\" for latitude or longitude"
   ]
  },
  {
   "cell_type": "code",
   "execution_count": 13,
   "metadata": {},
   "outputs": [
    {
     "data": {
      "text/plain": [
       "(33.1216751, -117.0814849)"
      ]
     },
     "execution_count": 13,
     "metadata": {},
     "output_type": "execute_result"
    }
   ],
   "source": [
    "def devil_lat_long():\n",
    "    for brew in brewery_list:\n",
    "        if brew['name'] == 'Devil\\'s Potion Brewing Company LLC':\n",
    "            latitude = float(brew['latitude'])\n",
    "            longitude = float(brew['longitude'])\n",
    "\n",
    "            return latitude, longitude\n",
    "\n",
    "devil_lat_long()"
   ]
  },
  {
   "cell_type": "code",
   "execution_count": 15,
   "metadata": {
    "scrolled": true
   },
   "outputs": [
    {
     "data": {
      "text/plain": [
       "[('Avondale Brewing Co', (33.524521, -86.774322)),\n",
       " ('Band of Brothers Brewing Company', (33.1984907123707, -87.5621551272424)),\n",
       " ('Trim Tab Brewing', (33.5128492349817, -86.7914000624146)),\n",
       " ('Yellowhammer Brewery', (34.7277523, -86.5932014)),\n",
       " ('Bearpaw River Brewing Co', (61.5752695, -149.4127103)),\n",
       " ('King Street Brewing Co', (61.1384893547315, -149.879076042937)),\n",
       " ('1912 Brewing', (32.2467372722906, -110.992750525872)),\n",
       " ('Bad Water Brewing', (33.4972615652174, -111.924474347826)),\n",
       " ('BJs Restaurant & Brewery - Chandler', (33.3053455, -111.911126)),\n",
       " ('BlackRock Brewers', (32.201608314954, -110.821778571134)),\n",
       " ('Dragoon Brewing Co', (32.2504946147872, -111.005452051979)),\n",
       " ('Grand Canyon Brewing Company', (35.2500282, -112.1892168)),\n",
       " ('Mudshark Brewing Co', (34.4689736300844, -114.342433477881)),\n",
       " ('Richter Aleworks', (33.6687744976834, -112.238054093359)),\n",
       " ('SanTan Brewing Co', (33.3032436, -111.8423459)),\n",
       " ('State 48 Brewery', (33.63822125, -112.357813820157)),\n",
       " ('Wren House Brewing Company', (33.516633, -112.0301125)),\n",
       " ('Brick Oven Pizza Co / Brick & Forge Brewing',\n",
       "  (36.0316358142169, -90.5204797204622)),\n",
       " ('Diamond Bear Brewing Co', (34.7594277548278, -92.2726892120821)),\n",
       " ('Lost Forty Brewing', (34.742845, -92.260019)),\n",
       " (\"Rapp's Barren Brewing Company\", (36.3326432, -92.3599724)),\n",
       " ('Whistleing Springs Brewing Company / Dark Hills Brewery',\n",
       "  (36.2553543, -94.1307587)),\n",
       " ('7 Sisters Brewing Co', (35.2467277959184, -120.670637530612)),\n",
       " ('Abnormal Beer Company', (33.02391, -117.08575)),\n",
       " ('Altamont Beer Works', (37.6783911404914, -121.721097428074)),\n",
       " ('Auburn Alehouse', (38.8961210674875, -121.078958250811)),\n",
       " ('Back Street Brewery & Tasting Room', (33.7998367777778, -117.896089444444)),\n",
       " ('Bear Republic Brewing Co Pub & Restaurant - Lakeside',\n",
       "  (38.3649703, -122.7101405)),\n",
       " ('Bird Street Brewing', (36.3014675555556, -119.784711)),\n",
       " ('Black Hammer Brewing', (37.780655, -122.3969947)),\n",
       " ('Brewbakers Brewing Co', (36.3300786, -119.2906961)),\n",
       " ('Brewery in Planning - Los Angeles', (34.0536834, -118.2427669)),\n",
       " ('Brewery in Planning - San Diego', (32.7174209, -117.1627714)),\n",
       " ('Brewery Twenty Five', (36.8535938163265, -121.400836918367)),\n",
       " ('Camino Brewing Co LLC', (37.3253017839889, -121.882347823612)),\n",
       " ('Chula Vista Brewery', (32.641495, -117.080369)),\n",
       " ('Barnaby Brewing Company', (58.3017758843016, -134.407726539973)),\n",
       " (\"Cloverdale Ale Company's Ruth McGowan's Brewpub\",\n",
       "  (38.8053232210103, -123.016572852146)),\n",
       " ('Craftsman Brewing Co', (34.1674435, -118.1595567)),\n",
       " (\"Devil's Potion Brewing Company LLC\", (33.1216751, -117.0814849)),\n",
       " ('Dry River Brewing', (34.0363873913043, -118.223301521739)),\n",
       " ('Eight Bridges Brewing', (37.6989500360251, -121.814589292069)),\n",
       " ('Eppig Brewing', (32.755723, -117.128732)),\n",
       " ('Escape Craft Brewery', (34.0603401026307, -117.217577166632)),\n",
       " ('Fieldwork Brewing Co', (37.88157297059, -122.302214696327)),\n",
       " ('Fort Point Beer Company', (37.789461244898, -122.410227755102)),\n",
       " ('Fountainhead Brewing Co', (38.5332279038371, -121.483117319123)),\n",
       " ('Geartooth AleWerks', (37.315251291037, -121.866477333785)),\n",
       " ('Golden State Brewery', (37.3625383916082, -121.950316757586)),\n",
       " ('Hangar 24 Craft Brewery', (34.0831712, -117.1419134)),\n",
       " ('Hermitage Brewing Company', (37.3153140881948, -121.866525688348)),\n",
       " ('High Water Brewing', (37.9577016, -121.2907796)),\n",
       " ('Hop Secret Brewing Co', (34.134155, -118.001973040816)),\n",
       " ('Indian Valley Brewing', (38.0682836733387, -122.535014356985)),\n",
       " ('Copper Hop Brewing Co/Copper Hop Ranch', (38.5719882, -121.54112)),\n",
       " ('Border X', (32.709923, -116.87742)),\n",
       " ('Jackrabbit Brewing Co', (34.1322144, -118.3529336)),\n",
       " ('Jamul Brewing Co. - Production Only', (33.5427913, -117.7835382)),\n",
       " ('Karl Strauss Brewing Co - Universal CityWalk', (40.4055904, -120.6326661)),\n",
       " ('Laguna Beach Brewery and Grille', (35.2777052, -120.6631926)),\n",
       " ('Lassen Ale Works @ The Pioneer Saloon', (33.8044209, -118.2156232)),\n",
       " ('Libertine Brewing Company', (37.7577437, -122.3880818)),\n",
       " ('Long Beach Beer Lab', (37.9458177, -122.5068874)),\n",
       " ('Magnolia Dogpatch', (32.8908008085346, -117.151828378447)),\n",
       " ('Marin Brewing Co', (38.952499158384, -121.081368585457)),\n",
       " ('Mike Hess Brewing - Miramar', (32.912641, -117.230519)),\n",
       " ('Moonraker Brewing Company (Production Facility)',\n",
       "  (33.0762994189637, -116.590154368311)),\n",
       " ('New English Brewing Co Inc', (33.2136973549748, -117.352957287439)),\n",
       " ('Nickel Beer Co', (34.0976380821684, -117.754146518132)),\n",
       " ('Oceanside Brewing Company', (37.4132678904411, -122.071765718906)),\n",
       " ('Old Stump Brewery', (37.6511615833333, -122.491021666667)),\n",
       " ('Palo Alto Brewing Co', (33.141537, -117.149141)),\n",
       " ('Pedro Point Brewing', (38.242484, -122.041544)),\n",
       " ('Port Brewing Co / The Lost Abbey', (33.133904, -117.269558)),\n",
       " ('Right Eye Brewing Co', (36.9822865, -121.9405748)),\n",
       " ('Rouleur Brewing Company', (36.7577440769231, -119.801962153846)),\n",
       " ('Sante Adairius Rustic Ales', (38.294506, -122.477788)),\n",
       " ('Sequoia Brewing Co - Tower District', (38.9118004, -120.0074997)),\n",
       " ('Sonoma Springs Brewing Co', (37.9732744779465, -122.52865849686)),\n",
       " ('South Lake Brewing Company', (32.7405237, -117.21157)),\n",
       " ('State Room Brewery', (37.7980748571429, -122.428394714286)),\n",
       " ('Stone Brewing World Bistro & Gardens- Liberty Station',\n",
       "  (38.8995673848688, -121.06949555199)),\n",
       " ('Sufferfest Beer Company', (33.9171643, -117.9018387)),\n",
       " ('Tap and Vine', (38.097198, -121.387849646574)),\n",
       " ('TAPS Fish House and Brewery - Brea', (32.8957500613992, -117.137466970906)),\n",
       " ('The Dancing Fox', (34.2781592040816, -119.299444632653)),\n",
       " ('Thunderhawk Alements', (38.6543681, -121.4908802)),\n",
       " ('Topa Topa Brewing Co', (35.2493387, -120.6420324)),\n",
       " ('Track 7 Brewing Co - Natomas', (38.5657962653061, -121.49459077551)),\n",
       " ('Underground Brewing Co.', (34.4555624289373, -118.580786794735)),\n",
       " ('Urban Roots Brewing', (37.8069575, -122.2704253)),\n",
       " ('Wolf Creek Brewery', (37.761163, -122.4285438)),\n",
       " ('Lonesome Valley Brewing', (39.5659575, -104.9426656)),\n",
       " ('Woods Bar & Brewery', (39.7562107, -105.2202098)),\n",
       " ('Woods CervecerÃ\\xada', (38.9941414, -105.0519462)),\n",
       " ('3 Freaks Brewing Co', (39.9864294285714, -104.822433)),\n",
       " ('Barrels & Bottles Brewery', (37.169397, -104.5005411))]"
      ]
     },
     "execution_count": 15,
     "metadata": {},
     "output_type": "execute_result"
    }
   ],
   "source": [
    "def customize_data():\n",
    "    all_floats_lats = list(filter(lambda brewery: brewery['latitude'] != None, brewery_list))\n",
    "    all_floats_longs = list(filter(lambda brewery: brewery['longitude'] != None, brewery_list))\n",
    "    \n",
    "    lats_to_floats = list(map(lambda lat: float(lat['latitude']), all_floats_lats))\n",
    "    longs_to_floats = list(map(lambda long: float(long['longitude']), all_floats_longs))\n",
    "    \n",
    "    all_zipped = list(zip(lats_to_floats, longs_to_floats))\n",
    "    \n",
    "    new_dict = []\n",
    "    \n",
    "    for brew in brewery_list:\n",
    "            new_dict.append((brew['name']))\n",
    "            \n",
    "    total = list(zip(new_dict,all_zipped))\n",
    "    \n",
    "    return total\n",
    "    \n",
    "customize_data()"
   ]
  },
  {
   "cell_type": "code",
   "execution_count": 21,
   "metadata": {},
   "outputs": [
    {
     "data": {
      "text/plain": [
       "[(30.309840116145182, ('Avondale Brewing Co', (33.524521, -86.774322))),\n",
       " (29.519429717918285,\n",
       "  ('Band of Brothers Brewing Company', (33.1984907123707, -87.5621551272424))),\n",
       " (30.29261059519302,\n",
       "  ('Trim Tab Brewing', (33.5128492349817, -86.7914000624146))),\n",
       " (30.530557065810846, ('Yellowhammer Brewery', (34.7277523, -86.5932014))),\n",
       " (43.06872612633575, ('Bearpaw River Brewing Co', (61.5752695, -149.4127103))),\n",
       " (43.13494946981374,\n",
       "  ('King Street Brewing Co', (61.1384893547315, -149.879076042937))),\n",
       " (6.151276492001057, ('1912 Brewing', (32.2467372722906, -110.992750525872))),\n",
       " (5.170669495151328,\n",
       "  ('Bad Water Brewing', (33.4972615652174, -111.924474347826))),\n",
       " (5.173620199690491,\n",
       "  ('BJs Restaurant & Brewery - Chandler', (33.3053455, -111.911126))),\n",
       " (6.326961846936487,\n",
       "  ('BlackRock Brewers', (32.201608314954, -110.821778571134))),\n",
       " (6.138169972234867,\n",
       "  ('Dragoon Brewing Co', (32.2504946147872, -111.005452051979))),\n",
       " (5.33518266609095,\n",
       "  ('Grand Canyon Brewing Company', (35.2500282, -112.1892168))),\n",
       " (3.0524770305736504,\n",
       "  ('Mudshark Brewing Co', (34.4689736300844, -114.342433477881))),\n",
       " (4.874232219505419,\n",
       "  ('Richter Aleworks', (33.6687744976834, -112.238054093359))),\n",
       " (5.24228429041323, ('SanTan Brewing Co', (33.3032436, -111.8423459))),\n",
       " (4.751830004916524, ('State 48 Brewery', (33.63822125, -112.357813820157))),\n",
       " (5.066789404174425,\n",
       "  ('Wren House Brewing Company', (33.516633, -112.0301125))),\n",
       " (26.719933897854606,\n",
       "  ('Brick Oven Pizza Co / Brick & Forge Brewing',\n",
       "   (36.0316358142169, -90.5204797204622))),\n",
       " (24.862795040848678,\n",
       "  ('Diamond Bear Brewing Co', (34.7594277548278, -92.2726892120821))),\n",
       " (24.874351474350625, ('Lost Forty Brewing', (34.742845, -92.260019))),\n",
       " (24.92916958959672,\n",
       "  (\"Rapp's Barren Brewing Company\", (36.3326432, -92.3599724))),\n",
       " (23.163673681777667,\n",
       "  ('Whistleing Springs Brewing Company / Dark Hills Brewery',\n",
       "   (36.2553543, -94.1307587))),\n",
       " (4.171074869414245,\n",
       "  ('7 Sisters Brewing Co', (35.2467277959184, -120.670637530612))),\n",
       " (0.09785809039634545, ('Abnormal Beer Company', (33.02391, -117.08575))),\n",
       " (6.503050475302558,\n",
       "  ('Altamont Beer Works', (37.6783911404914, -121.721097428074))),\n",
       " (7.023106109256554,\n",
       "  ('Auburn Alehouse', (38.8961210674875, -121.078958250811))),\n",
       " (1.0599451990717308,\n",
       "  ('Back Street Brewery & Tasting Room',\n",
       "   (33.7998367777778, -117.896089444444))),\n",
       " (7.692457891841483,\n",
       "  ('Bear Republic Brewing Co Pub & Restaurant - Lakeside',\n",
       "   (38.3649703, -122.7101405))),\n",
       " (4.173549018297196, ('Bird Street Brewing', (36.3014675555556, -119.784711))),\n",
       " (7.06829103408313, ('Black Hammer Brewing', (37.780655, -122.3969947))),\n",
       " (3.8954418420787262, ('Brewbakers Brewing Co', (36.3300786, -119.2906961))),\n",
       " (1.4890316836094823,\n",
       "  ('Brewery in Planning - Los Angeles', (34.0536834, -118.2427669))),\n",
       " (0.4123456721003458,\n",
       "  ('Brewery in Planning - San Diego', (32.7174209, -117.1627714))),\n",
       " (5.708241337210536,\n",
       "  ('Brewery Twenty Five', (36.8535938163265, -121.400836918367))),\n",
       " (6.381125457915379,\n",
       "  ('Camino Brewing Co LLC', (37.3253017839889, -121.882347823612))),\n",
       " (0.48018139662925136, ('Chula Vista Brewery', (32.641495, -117.080369))),\n",
       " (30.56527645669707,\n",
       "  ('Barnaby Brewing Company', (58.3017758843016, -134.407726539973))),\n",
       " (8.217610660232841,\n",
       "  (\"Cloverdale Ale Company's Ruth McGowan's Brewpub\",\n",
       "   (38.8053232210103, -123.016572852146))),\n",
       " (1.5019555094588446, ('Craftsman Brewing Co', (34.1674435, -118.1595567))),\n",
       " (0.0, (\"Devil's Potion Brewing Company LLC\", (33.1216751, -117.0814849))),\n",
       " (1.4630255546444249,\n",
       "  ('Dry River Brewing', (34.0363873913043, -118.223301521739))),\n",
       " (6.584354412255346,\n",
       "  ('Eight Bridges Brewing', (37.6989500360251, -121.814589292069))),\n",
       " (0.36898946862046755, ('Eppig Brewing', (32.755723, -117.128732))),\n",
       " (0.9484793578147729,\n",
       "  ('Escape Craft Brewery', (34.0603401026307, -117.217577166632))),\n",
       " (7.064888346230513,\n",
       "  ('Fieldwork Brewing Co', (37.88157297059, -122.302214696327))),\n",
       " (7.08404742434029,\n",
       "  ('Fort Point Beer Company', (37.789461244898, -122.410227755102))),\n",
       " (6.975619807715421,\n",
       "  ('Fountainhead Brewing Co', (38.5332279038371, -121.483117319123))),\n",
       " (6.362565037892504,\n",
       "  ('Geartooth AleWerks', (37.315251291037, -121.866477333785))),\n",
       " (6.456813851703807,\n",
       "  ('Golden State Brewery', (37.3625383916082, -121.950316757586))),\n",
       " (0.9633931460870322, ('Hangar 24 Craft Brewery', (34.0831712, -117.1419134))),\n",
       " (6.3626427928543645,\n",
       "  ('Hermitage Brewing Company', (37.3153140881948, -121.866525688348))),\n",
       " (6.411342619151644, ('High Water Brewing', (37.9577016, -121.2907796))),\n",
       " (1.3683617815793065,\n",
       "  ('Hop Secret Brewing Co', (34.134155, -118.001973040816))),\n",
       " (7.362738615218592,\n",
       "  ('Indian Valley Brewing', (38.0682836733387, -122.535014356985))),\n",
       " (7.042319086294205,\n",
       "  ('Copper Hop Brewing Co/Copper Hop Ranch', (38.5719882, -121.54112))),\n",
       " (0.4595457270679572, ('Border X', (32.709923, -116.87742))),\n",
       " (1.6241217545418734, ('Jackrabbit Brewing Co', (34.1322144, -118.3529336))),\n",
       " (0.8186682416848196,\n",
       "  ('Jamul Brewing Co. - Production Only', (33.5427913, -117.7835382))),\n",
       " (8.10347518122981,\n",
       "  ('Karl Strauss Brewing Co - Universal CityWalk',\n",
       "   (40.4055904, -120.6326661))),\n",
       " (4.18056166565514,\n",
       "  ('Laguna Beach Brewery and Grille', (35.2777052, -120.6631926))),\n",
       " (1.3237868072104755,\n",
       "  ('Lassen Ale Works @ The Pioneer Saloon', (33.8044209, -118.2156232))),\n",
       " (7.046495776128405,\n",
       "  ('Libertine Brewing Company', (37.7577437, -122.3880818))),\n",
       " (7.2599823768478196, ('Long Beach Beer Lab', (37.9458177, -122.5068874))),\n",
       " (0.24135273650752542,\n",
       "  ('Magnolia Dogpatch', (32.8908008085346, -117.151828378447))),\n",
       " (7.070896597816625,\n",
       "  ('Marin Brewing Co', (38.952499158384, -121.081368585457))),\n",
       " (0.25672245309987385,\n",
       "  ('Mike Hess Brewing - Miramar', (32.912641, -117.230519))),\n",
       " (0.49342136536565273,\n",
       "  ('Moonraker Brewing Company (Production Facility)',\n",
       "   (33.0762994189637, -116.590154368311))),\n",
       " (0.28664499394280807,\n",
       "  ('New English Brewing Co Inc', (33.2136973549748, -117.352957287439))),\n",
       " (1.185317423760826,\n",
       "  ('Nickel Beer Co', (34.0976380821684, -117.754146518132))),\n",
       " (6.581844067623225,\n",
       "  ('Oceanside Brewing Company', (37.4132678904411, -122.071765718906))),\n",
       " (7.055447245399899,\n",
       "  ('Old Stump Brewery', (37.6511615833333, -122.491021666667))),\n",
       " (0.07051129653338688, ('Palo Alto Brewing Co', (33.141537, -117.149141))),\n",
       " (7.129156336188173, ('Pedro Point Brewing', (38.242484, -122.041544))),\n",
       " (0.18847025478525495,\n",
       "  ('Port Brewing Co / The Lost Abbey', (33.133904, -117.269558))),\n",
       " (6.206051485291744, ('Right Eye Brewing Co', (36.9822865, -121.9405748))),\n",
       " (4.541144579688706,\n",
       "  ('Rouleur Brewing Company', (36.7577440769231, -119.801962153846))),\n",
       " (7.475176698049645, ('Sante Adairius Rustic Ales', (38.294506, -122.477788))),\n",
       " (6.487458177092094,\n",
       "  ('Sequoia Brewing Co - Tower District', (38.9118004, -120.0074997))),\n",
       " (7.294499072480545,\n",
       "  ('Sonoma Springs Brewing Co', (37.9732744779465, -122.52865849686))),\n",
       " (0.40273877757669063,\n",
       "  ('South Lake Brewing Company', (32.7405237, -117.21157))),\n",
       " (7.10339068689834,\n",
       "  ('State Room Brewery', (37.7980748571429, -122.428394714286))),\n",
       " (7.020560391872727,\n",
       "  ('Stone Brewing World Bistro & Gardens- Liberty Station',\n",
       "   (38.8995673848688, -121.06949555199))),\n",
       " (1.1427088100172662, ('Sufferfest Beer Company', (33.9171643, -117.9018387))),\n",
       " (6.58031955599116, ('Tap and Vine', (38.097198, -121.387849646574))),\n",
       " (0.232757632162077,\n",
       "  ('TAPS Fish House and Brewery - Brea',\n",
       "   (32.8957500613992, -117.137466970906))),\n",
       " (2.5013598019204646,\n",
       "  ('The Dancing Fox', (34.2781592040816, -119.299444632653))),\n",
       " (7.074846906040519, ('Thunderhawk Alements', (38.6543681, -121.4908802))),\n",
       " (4.1478248389392265, ('Topa Topa Brewing Co', (35.2493387, -120.6420324))),\n",
       " (7.008135182129032,\n",
       "  ('Track 7 Brewing Co - Natomas', (38.5657962653061, -121.49459077551))),\n",
       " (2.0067789060719776,\n",
       "  ('Underground Brewing Co.', (34.4555624289373, -118.580786794735))),\n",
       " (6.991206880253358, ('Urban Roots Brewing', (37.8069575, -122.2704253))),\n",
       " (7.079257507275435, ('Wolf Creek Brewery', (37.761163, -122.4285438))),\n",
       " (13.743351470765875, ('Lonesome Valley Brewing', (39.5659575, -104.9426656))),\n",
       " (13.590692021584013, ('Woods Bar & Brewery', (39.7562107, -105.2202098))),\n",
       " (13.386398387147809, ('Woods CervecerÃ\\xada', (38.9941414, -105.0519462))),\n",
       " (14.050238627102868,\n",
       "  ('3 Freaks Brewing Co', (39.9864294285714, -104.822433))),\n",
       " (13.21605839418463, ('Barrels & Bottles Brewery', (37.169397, -104.5005411)))]"
      ]
     },
     "execution_count": 21,
     "metadata": {},
     "output_type": "execute_result"
    }
   ],
   "source": [
    "#### MATH IS WRONG HERE, BUT FUNCTION OUTLINE IS RIGHT\n",
    "\n",
    "def find_closest_brew_to_dev():\n",
    "    import math\n",
    "    devil_list = devil_lat_long()\n",
    "    big_list = customize_data()\n",
    "        \n",
    "    dist_from_dev = []\n",
    "    \n",
    "    for tup in big_list:\n",
    "        a = abs(devil_list[0] - tup[1][0]) # devil lat minus i lat\n",
    "        b = abs(devil_list[1] - tup[1][1]) # devil long minus i long\n",
    "        dist_from_dev.append(math.sqrt((a**2) + (b**2)))        \n",
    "\n",
    "    return list(zip(dist_from_dev, big_list))\n",
    "    test = list(zip(dist_from_dev,big_list))\n",
    "    \n",
    "#     return sorted(test)\n",
    "\n",
    "#     output1 = []\n",
    "#     output2 = []\n",
    "    \n",
    "#     for i in big_list:\n",
    "#         for y in test:\n",
    "#             if i[0] in y[1]: \n",
    "#                 output1.append(i[0])\n",
    "#                 output2.append(y[1])\n",
    "                \n",
    "#     output3 = dict(output2).keys()\n",
    "#     output4 = list(output3)\n",
    "#     output5 = zip(dist_from_dev, output4)\n",
    "                \n",
    "#     return sorted(list(filter(lambda i: i[0] != 0, output5)))[0]\n",
    "\n",
    "find_closest_brew_to_dev()"
   ]
  },
  {
   "cell_type": "markdown",
   "metadata": {},
   "source": [
    "### Q6: Write a function to find the closest brewery to any other given brewery"
   ]
  },
  {
   "cell_type": "code",
   "execution_count": null,
   "metadata": {},
   "outputs": [],
   "source": [
    "\n"
   ]
  },
  {
   "cell_type": "markdown",
   "metadata": {},
   "source": [
    "### Q7: How would you get the first 10 pages from this API and put them all together using a for loop?"
   ]
  },
  {
   "cell_type": "code",
   "execution_count": null,
   "metadata": {},
   "outputs": [],
   "source": [
    "\n"
   ]
  },
  {
   "cell_type": "markdown",
   "metadata": {},
   "source": [
    "# Crime in the UK"
   ]
  },
  {
   "cell_type": "markdown",
   "metadata": {},
   "source": [
    "### We will be analyzing different crimes reported in the UK as provided by https://data.police.uk/docs/"
   ]
  },
  {
   "cell_type": "markdown",
   "metadata": {},
   "source": [
    "# Exploratory analysis\n",
    "##### 1. How many total crimes were there at latitude : 52.63902 and -1.131321 on November of 2017.\n",
    "Use the street level crimes data, the documentation for the API can be found at https://data.police.uk/docs/method/crime-street/"
   ]
  },
  {
   "cell_type": "code",
   "execution_count": null,
   "metadata": {},
   "outputs": [],
   "source": [
    "\n"
   ]
  },
  {
   "cell_type": "markdown",
   "metadata": {},
   "source": [
    "##### 2. We've queried the API once, but it could get annoying to retype the url over and over again, create a function `make_api_request` that enables you to query the API.\n",
    "\n",
    "\n",
    " The parameters for the function should be:\n",
    "* lat (float) : latitude\n",
    "* lng (float) : longitude\n",
    "* date (string): Date in the format YYYY-MM\n",
    "    * default value = `None`\n",
    "    \n",
    "And it should return a json object of \n",
    "\n",
    "for more information on default values check out http://blog.thedigitalcatonline.com/blog/2015/02/11/default-arguments-in-python/"
   ]
  },
  {
   "cell_type": "code",
   "execution_count": null,
   "metadata": {},
   "outputs": [],
   "source": [
    "\n"
   ]
  },
  {
   "cell_type": "markdown",
   "metadata": {},
   "source": [
    "##### 3. Write a function `categories_of_crime` that will determine the count of each type of crime for a given latitude and longitude. This is labelled as 'category' in the records. Your function should call the `make_api_request` function you created.\n",
    "\n",
    "The parameters for the function should be:\n",
    "\n",
    "* lat (float) : latitude\n",
    "* lng (float) : longitude\n",
    "* date (str) default = None\n",
    "\n",
    "The function should return:\n",
    "* a dictionary with the count of each type of crime\n",
    "\n",
    "\n",
    "\n",
    "Once you've created the function, try it with these locations\n",
    "* lat, lng of 51.5017861,-0.1432319   (Buckingham Palace)\n",
    "* lat, lng of 53.480161, -2.245163     (Manchester)"
   ]
  },
  {
   "cell_type": "code",
   "execution_count": null,
   "metadata": {},
   "outputs": [],
   "source": [
    "\n"
   ]
  },
  {
   "cell_type": "markdown",
   "metadata": {},
   "source": [
    "**Bonus**: \n",
    "* Write a function that determines the difference between Buckingham Palace and Manchester in terms of the number of crimes in each category.\n",
    "    * In which category is there the largest absolute difference between the category of crime?\n",
    "* Create a histogram depiction of the categories of crime"
   ]
  },
  {
   "cell_type": "code",
   "execution_count": null,
   "metadata": {},
   "outputs": [],
   "source": [
    "\n"
   ]
  },
  {
   "cell_type": "markdown",
   "metadata": {},
   "source": [
    "##### 4. Create a function `find_outcome_statuses` that will determine outcome statuses for a given latitude and longitude and date (optional)?\n",
    "Investigate the data to determine where the outcome statuses are located.\n",
    "\n",
    "**NOTE**: You'll notice that some of these crimes do not have crime outcomes. Make these into the category of \"Not Resolved.\"\n",
    "\n",
    "**NOTE 2**: These might take a long time to execute if you do not specify a month\n",
    "\n",
    "**Bonus**: What is the ratio of crimes investigated to those not investigated? Is it higher near London or Manchester?"
   ]
  },
  {
   "cell_type": "code",
   "execution_count": null,
   "metadata": {},
   "outputs": [],
   "source": [
    "\n"
   ]
  },
  {
   "cell_type": "markdown",
   "metadata": {},
   "source": [
    "##### 5. Write a function `month_highest_crimes` that will return the month that had the highest number of crimes for a latitude, longitude and a year.\n",
    "\n",
    "Inputs\n",
    "* lat (float) : latitude\n",
    "* lng (float) : longitude\n",
    "* year (str) : in the format YYYY\n",
    "\n",
    "Output\n",
    "* month with highest crime (int)\n",
    "\n",
    "**Bonus** Make a graph of how the number of crimes changed over time for a year. This will likely require a new function. Is seasonality a factor? Do the type of crimes change over time?"
   ]
  },
  {
   "cell_type": "code",
   "execution_count": null,
   "metadata": {},
   "outputs": [],
   "source": [
    "\n"
   ]
  },
  {
   "cell_type": "markdown",
   "metadata": {},
   "source": [
    "### Bonus Open Ended Questions\n",
    "\n",
    "1. Take a look at the https://data.police.uk/docs/method/stops-street/ API. Is there a correlation between gender and being stopped and searched? How about race and being stopped and searched?"
   ]
  },
  {
   "cell_type": "code",
   "execution_count": null,
   "metadata": {},
   "outputs": [],
   "source": [
    "\n"
   ]
  }
 ],
 "metadata": {
  "kernelspec": {
   "display_name": "Python 3",
   "language": "python",
   "name": "python3"
  },
  "language_info": {
   "codemirror_mode": {
    "name": "ipython",
    "version": 3
   },
   "file_extension": ".py",
   "mimetype": "text/x-python",
   "name": "python",
   "nbconvert_exporter": "python",
   "pygments_lexer": "ipython3",
   "version": "3.6.5"
  }
 },
 "nbformat": 4,
 "nbformat_minor": 2
}
