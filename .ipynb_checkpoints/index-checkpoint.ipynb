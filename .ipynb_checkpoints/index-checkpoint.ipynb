{
 "cells": [
  {
   "cell_type": "markdown",
   "metadata": {},
   "source": [
    "# API Exercises"
   ]
  },
  {
   "cell_type": "markdown",
   "metadata": {},
   "source": [
    "Here are two exercises that involve working with APIs and dictionaries.\n",
    "\n",
    "One is using the Open Brewery API found at https://www.openbrewerydb.org/, and the other is using the API for UK Police Data, found at https://data.police.uk/docs/.\n",
    "\n",
    "You can complete them in either order!\n",
    "\n",
    "Remember that you can create new cells with esc + a or b"
   ]
  },
  {
   "cell_type": "markdown",
   "metadata": {},
   "source": [
    "## Breweries"
   ]
  },
  {
   "cell_type": "markdown",
   "metadata": {},
   "source": [
    "### Q1: Load the first page of results with 50 results per page"
   ]
  },
  {
   "cell_type": "code",
   "execution_count": 7,
   "metadata": {},
   "outputs": [
    {
     "data": {
      "text/plain": [
       "50"
      ]
     },
     "execution_count": 7,
     "metadata": {},
     "output_type": "execute_result"
    }
   ],
   "source": [
    "# url = 'https://api.openbrewerydb.org/breweries?page=1&per_page=50'\n",
    "\n",
    "import requests,json\n",
    "first_50 = requests.get(\"https://api.openbrewerydb.org/breweries?page=1&per_page=50\").json()"
   ]
  },
  {
   "cell_type": "markdown",
   "metadata": {},
   "source": [
    "### Q2: This is only the first 50 results.  Get the next 50 and put them together."
   ]
  },
  {
   "cell_type": "code",
   "execution_count": 310,
   "metadata": {},
   "outputs": [],
   "source": [
    "second_50 = requests.get(\"https://api.openbrewerydb.org/breweries?page=2&per_page=50\").json()\n",
    "\n",
    "brewery_list = first_50 + second_50\n",
    "\n",
    "# brewery_list"
   ]
  },
  {
   "cell_type": "markdown",
   "metadata": {},
   "source": [
    "### Q3: How many of these 100 breweries in are in Alaska?"
   ]
  },
  {
   "cell_type": "code",
   "execution_count": 26,
   "metadata": {},
   "outputs": [
    {
     "data": {
      "text/plain": [
       "3"
      ]
     },
     "execution_count": 26,
     "metadata": {},
     "output_type": "execute_result"
    }
   ],
   "source": [
    "len(list(filter(lambda brewery: brewery['state'] == 'Alaska', brewery_list)))"
   ]
  },
  {
   "cell_type": "markdown",
   "metadata": {},
   "source": [
    "### Q4: Of these 100 breweries, what are the different unique brewery types?"
   ]
  },
  {
   "cell_type": "code",
   "execution_count": 31,
   "metadata": {},
   "outputs": [
    {
     "data": {
      "text/plain": [
       "{'brewpub', 'contract', 'micro', 'planning', 'proprietor', 'regional'}"
      ]
     },
     "execution_count": 31,
     "metadata": {},
     "output_type": "execute_result"
    }
   ],
   "source": [
    "set(list(map(lambda brew: brew['brewery_type'] , brewery_list)))"
   ]
  },
  {
   "cell_type": "markdown",
   "metadata": {},
   "source": [
    "### Q5: What is the cloest brewery to \"Devil's Potion Brewing Company LLC\" ?\n",
    "* Hint 1: Use Euclidian distance w/ longitude and latitude (assume longitude and latitude are a Carteisan coordinate system)\n",
    "* Hint 2: You'll have to ignore the entries with \"none\" for latitude or longitude"
   ]
  },
  {
   "cell_type": "code",
   "execution_count": 435,
   "metadata": {},
   "outputs": [],
   "source": [
    "def devil_lat_long():\n",
    "    for brew in brewery_list:\n",
    "        if brew['name'] == 'Devil\\'s Potion Brewing Company LLC':\n",
    "            latitude = float(brew['latitude'])\n",
    "            longitude = float(brew['longitude'])\n",
    "\n",
    "            return latitude, longitude\n",
    "\n",
    "# devil_lat_long()"
   ]
  },
  {
   "cell_type": "code",
   "execution_count": 434,
   "metadata": {
    "scrolled": true
   },
   "outputs": [],
   "source": [
    "def data_rejection():\n",
    "    all_floats_lats = list(filter(lambda brewery: brewery['latitude'] != None, brewery_list))\n",
    "    all_floats_longs = list(filter(lambda brewery: brewery['longitude'] != None, brewery_list))\n",
    "    \n",
    "    lats_to_floats = list(map(lambda lat: float(lat['latitude']), all_floats_lats))\n",
    "    longs_to_floats = list(map(lambda long: float(long['longitude']), all_floats_longs))\n",
    "    \n",
    "    all_zipped = list(zip(lats_to_floats, longs_to_floats))\n",
    "    \n",
    "    new_dict = []\n",
    "    \n",
    "    for brew in brewery_list:\n",
    "            new_dict.append((brew['name']))\n",
    "            \n",
    "    total = list(zip(new_dict,all_zipped))\n",
    "    \n",
    "    return total\n",
    "    \n",
    "# data_rejection()"
   ]
  },
  {
   "cell_type": "code",
   "execution_count": 439,
   "metadata": {},
   "outputs": [
    {
     "data": {
      "text/plain": [
       "(0.07051129653338688, 'Palo Alto Brewing Co')"
      ]
     },
     "execution_count": 439,
     "metadata": {},
     "output_type": "execute_result"
    }
   ],
   "source": [
    "def find_closest_brew_to_dev():\n",
    "    import math\n",
    "    devil_list = devil_lat_long()\n",
    "    big_list = data_rejection()\n",
    "        \n",
    "    dist_from_dev = []\n",
    "    \n",
    "    for tup in big_list:\n",
    "        a = abs(devil_list[0] - tup[1][0]) # devil lat minus i lat\n",
    "        b = abs(devil_list[1] - tup[1][1]) # devil long minus i long\n",
    "        dist_from_dev.append(math.sqrt((a**2) + (b**2)))        \n",
    "\n",
    "    test = list(zip(dist_from_dev,big_list))\n",
    "\n",
    "    output1 = []\n",
    "    output2 = []\n",
    "    \n",
    "    for i in big_list:\n",
    "        for y in test:\n",
    "            if i[0] in y[1]: \n",
    "                output1.append(i[0])\n",
    "                output2.append(y[1])\n",
    "                \n",
    "    output3 = dict(output2).keys()\n",
    "    output4 = list(output3)\n",
    "    output5 = zip(dist_from_dev, output4)\n",
    "                \n",
    "    return sorted(list(filter(lambda i: i[0] != 0, output5)))[0]\n",
    "\n",
    "find_closest_brew_to_dev()"
   ]
  },
  {
   "cell_type": "markdown",
   "metadata": {},
   "source": [
    "### Q6: Write a function to find the closest brewery to any other given brewery"
   ]
  },
  {
   "cell_type": "code",
   "execution_count": null,
   "metadata": {},
   "outputs": [],
   "source": [
    "\n"
   ]
  },
  {
   "cell_type": "markdown",
   "metadata": {},
   "source": [
    "### Q7: How would you get the first 10 pages from this API and put them all together using a for loop?"
   ]
  },
  {
   "cell_type": "code",
   "execution_count": null,
   "metadata": {},
   "outputs": [],
   "source": [
    "\n"
   ]
  },
  {
   "cell_type": "markdown",
   "metadata": {},
   "source": [
    "# Crime in the UK"
   ]
  },
  {
   "cell_type": "markdown",
   "metadata": {},
   "source": [
    "### We will be analyzing different crimes reported in the UK as provided by https://data.police.uk/docs/"
   ]
  },
  {
   "cell_type": "markdown",
   "metadata": {},
   "source": [
    "# Exploratory analysis\n",
    "##### 1. How many total crimes were there at latitude : 52.63902 and -1.131321 on November of 2017.\n",
    "Use the street level crimes data, the documentation for the API can be found at https://data.police.uk/docs/method/crime-street/"
   ]
  },
  {
   "cell_type": "code",
   "execution_count": null,
   "metadata": {},
   "outputs": [],
   "source": [
    "\n"
   ]
  },
  {
   "cell_type": "markdown",
   "metadata": {},
   "source": [
    "##### 2. We've queried the API once, but it could get annoying to retype the url over and over again, create a function `make_api_request` that enables you to query the API.\n",
    "\n",
    "\n",
    " The parameters for the function should be:\n",
    "* lat (float) : latitude\n",
    "* lng (float) : longitude\n",
    "* date (string): Date in the format YYYY-MM\n",
    "    * default value = `None`\n",
    "    \n",
    "And it should return a json object of \n",
    "\n",
    "for more information on default values check out http://blog.thedigitalcatonline.com/blog/2015/02/11/default-arguments-in-python/"
   ]
  },
  {
   "cell_type": "code",
   "execution_count": null,
   "metadata": {},
   "outputs": [],
   "source": [
    "\n"
   ]
  },
  {
   "cell_type": "markdown",
   "metadata": {},
   "source": [
    "##### 3. Write a function `categories_of_crime` that will determine the count of each type of crime for a given latitude and longitude. This is labelled as 'category' in the records. Your function should call the `make_api_request` function you created.\n",
    "\n",
    "The parameters for the function should be:\n",
    "\n",
    "* lat (float) : latitude\n",
    "* lng (float) : longitude\n",
    "* date (str) default = None\n",
    "\n",
    "The function should return:\n",
    "* a dictionary with the count of each type of crime\n",
    "\n",
    "\n",
    "\n",
    "Once you've created the function, try it with these locations\n",
    "* lat, lng of 51.5017861,-0.1432319   (Buckingham Palace)\n",
    "* lat, lng of 53.480161, -2.245163     (Manchester)"
   ]
  },
  {
   "cell_type": "code",
   "execution_count": null,
   "metadata": {},
   "outputs": [],
   "source": [
    "\n"
   ]
  },
  {
   "cell_type": "markdown",
   "metadata": {},
   "source": [
    "**Bonus**: \n",
    "* Write a function that determines the difference between Buckingham Palace and Manchester in terms of the number of crimes in each category.\n",
    "    * In which category is there the largest absolute difference between the category of crime?\n",
    "* Create a histogram depiction of the categories of crime"
   ]
  },
  {
   "cell_type": "code",
   "execution_count": null,
   "metadata": {},
   "outputs": [],
   "source": [
    "\n"
   ]
  },
  {
   "cell_type": "markdown",
   "metadata": {},
   "source": [
    "##### 4. Create a function `find_outcome_statuses` that will determine outcome statuses for a given latitude and longitude and date (optional)?\n",
    "Investigate the data to determine where the outcome statuses are located.\n",
    "\n",
    "**NOTE**: You'll notice that some of these crimes do not have crime outcomes. Make these into the category of \"Not Resolved.\"\n",
    "\n",
    "**NOTE 2**: These might take a long time to execute if you do not specify a month\n",
    "\n",
    "**Bonus**: What is the ratio of crimes investigated to those not investigated? Is it higher near London or Manchester?"
   ]
  },
  {
   "cell_type": "code",
   "execution_count": null,
   "metadata": {},
   "outputs": [],
   "source": [
    "\n"
   ]
  },
  {
   "cell_type": "markdown",
   "metadata": {},
   "source": [
    "##### 5. Write a function `month_highest_crimes` that will return the month that had the highest number of crimes for a latitude, longitude and a year.\n",
    "\n",
    "Inputs\n",
    "* lat (float) : latitude\n",
    "* lng (float) : longitude\n",
    "* year (str) : in the format YYYY\n",
    "\n",
    "Output\n",
    "* month with highest crime (int)\n",
    "\n",
    "**Bonus** Make a graph of how the number of crimes changed over time for a year. This will likely require a new function. Is seasonality a factor? Do the type of crimes change over time?"
   ]
  },
  {
   "cell_type": "code",
   "execution_count": null,
   "metadata": {},
   "outputs": [],
   "source": [
    "\n"
   ]
  },
  {
   "cell_type": "markdown",
   "metadata": {},
   "source": [
    "### Bonus Open Ended Questions\n",
    "\n",
    "1. Take a look at the https://data.police.uk/docs/method/stops-street/ API. Is there a correlation between gender and being stopped and searched? How about race and being stopped and searched?"
   ]
  },
  {
   "cell_type": "code",
   "execution_count": null,
   "metadata": {},
   "outputs": [],
   "source": [
    "\n"
   ]
  }
 ],
 "metadata": {
  "kernelspec": {
   "display_name": "Python 3",
   "language": "python",
   "name": "python3"
  },
  "language_info": {
   "codemirror_mode": {
    "name": "ipython",
    "version": 3
   },
   "file_extension": ".py",
   "mimetype": "text/x-python",
   "name": "python",
   "nbconvert_exporter": "python",
   "pygments_lexer": "ipython3",
   "version": "3.6.5"
  }
 },
 "nbformat": 4,
 "nbformat_minor": 2
}
